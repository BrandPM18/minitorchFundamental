{
 "cells": [
  {
   "cell_type": "code",
   "execution_count": 1,
   "metadata": {},
   "outputs": [
    {
     "name": "stdout",
     "output_type": "stream",
     "text": [
      "Defaulting to user installation because normal site-packages is not writeable\n",
      "Requirement already satisfied: visdom in /home/bpm21/.local/lib/python3.9/site-packages (0.1.8.9)\n",
      "Requirement already satisfied: numpy>=1.8 in /home/bpm21/.local/lib/python3.9/site-packages (from visdom) (1.20.3)\n",
      "Requirement already satisfied: scipy in /home/bpm21/.local/lib/python3.9/site-packages (from visdom) (1.6.3)\n",
      "Requirement already satisfied: requests in /usr/lib/python3.9/site-packages (from visdom) (2.25.1)\n",
      "Requirement already satisfied: tornado in /home/bpm21/.local/lib/python3.9/site-packages (from visdom) (6.1)\n",
      "Requirement already satisfied: pyzmq in /home/bpm21/.local/lib/python3.9/site-packages (from visdom) (22.0.3)\n",
      "Requirement already satisfied: six in /usr/lib/python3.9/site-packages (from visdom) (1.16.0)\n",
      "Requirement already satisfied: jsonpatch in /home/bpm21/.local/lib/python3.9/site-packages (from visdom) (1.32)\n",
      "Requirement already satisfied: torchfile in /home/bpm21/.local/lib/python3.9/site-packages (from visdom) (0.1.0)\n",
      "Requirement already satisfied: websocket-client in /home/bpm21/.local/lib/python3.9/site-packages (from visdom) (1.1.0)\n",
      "Requirement already satisfied: pillow in /usr/lib/python3.9/site-packages (from visdom) (8.2.0)\n",
      "Requirement already satisfied: jsonpointer>=1.9 in /home/bpm21/.local/lib/python3.9/site-packages (from jsonpatch->visdom) (2.1)\n",
      "Requirement already satisfied: chardet>=3.0.2 in /usr/lib/python3.9/site-packages (from requests->visdom) (4.0.0)\n",
      "Requirement already satisfied: idna>=2.5 in /usr/lib/python3.9/site-packages (from requests->visdom) (3.1)\n",
      "Requirement already satisfied: urllib3>=1.21.1 in /usr/lib/python3.9/site-packages (from requests->visdom) (1.26.5)\n",
      "Requirement already satisfied: numpy>=1.8 in /home/bpm21/.local/lib/python3.9/site-packages (from visdom) (1.20.3)\n",
      "/home/bpm21/.local/lib/python3.9/site-packages/visdom/server.py:39: DeprecationWarning: zmq.eventloop.ioloop is deprecated in pyzmq 17. pyzmq now works with default tornado and asyncio eventloops.\n",
      "  ioloop.install()  # Needs to happen before any tornado imports!\n",
      "Checking for scripts.\n",
      "Downloading scripts, this may take a little while\n",
      "It's Alive!\n",
      "Traceback (most recent call last):\n",
      "  File \"/usr/lib/python3.9/runpy.py\", line 197, in _run_module_as_main\n",
      "    return _run_code(code, main_globals, None,\n",
      "  File \"/usr/lib/python3.9/runpy.py\", line 87, in _run_code\n",
      "    exec(code, run_globals)\n",
      "  File \"/home/bpm21/.local/lib/python3.9/site-packages/visdom/server.py\", line 1922, in <module>\n",
      "    download_scripts_and_run()\n",
      "  File \"/home/bpm21/.local/lib/python3.9/site-packages/visdom/server.py\", line 1918, in download_scripts_and_run\n",
      "    main()\n",
      "  File \"/home/bpm21/.local/lib/python3.9/site-packages/visdom/server.py\", line 1910, in main\n",
      "    start_server(port=FLAGS.port, hostname=FLAGS.hostname, base_url=base_url,\n",
      "  File \"/home/bpm21/.local/lib/python3.9/site-packages/visdom/server.py\", line 1791, in start_server\n",
      "    app.listen(port, max_buffer_size=1024 ** 3)\n",
      "  File \"/home/bpm21/.local/lib/python3.9/site-packages/tornado/web.py\", line 2109, in listen\n",
      "    server.listen(port, address)\n",
      "  File \"/home/bpm21/.local/lib/python3.9/site-packages/tornado/tcpserver.py\", line 151, in listen\n",
      "    sockets = bind_sockets(port, address=address)\n",
      "  File \"/home/bpm21/.local/lib/python3.9/site-packages/tornado/netutil.py\", line 161, in bind_sockets\n",
      "    sock.bind(sockaddr)\n",
      "OSError: [Errno 98] Address already in use\n"
     ]
    }
   ],
   "source": [
    "!source venv/bin/activate\n",
    "!pip install visdom\n",
    "!python -m visdom.server"
   ]
  },
  {
   "cell_type": "code",
   "execution_count": 2,
   "metadata": {
    "pycharm": {
     "name": "#%%\n"
    }
   },
   "outputs": [
    {
     "name": "stderr",
     "output_type": "stream",
     "text": [
      "Setting up a new session...\n"
     ]
    }
   ],
   "source": [
    "import minitorch.operators\n",
    "import visdom\n",
    "import matplotlib.pyplot as plt\n",
    "from project.datasets import Simple, Split, Xor\n",
    "\n",
    "\n",
    "N = 100\n",
    "\n",
    "\n",
    "def simple_classify(pt):\n",
    "    return 0.0 if pt[0] > 0.5 else 1.0\n",
    "\n",
    "\n",
    "Simple(N, vis=True).graph(\"initial\", model=simple_classify)\n",
    "\n"
   ]
  },
  {
   "cell_type": "markdown",
   "metadata": {
    "pycharm": {
     "name": "#%% md\n"
    }
   },
   "source": [
    "### Abrir progreso del simple_classify\n",
    "\n",
    "Link de acceso: http://localhost:8097/"
   ]
  },
  {
   "cell_type": "code",
   "execution_count": 4,
   "metadata": {},
   "outputs": [
    {
     "name": "stderr",
     "output_type": "stream",
     "text": [
      "Setting up a new session...\n"
     ]
    }
   ],
   "source": [
    "def xor_classify(pt):\n",
    "    if pt[0] < 0.5 and pt[1] < 0.5 or pt[0] > 0.5 and pt[1] > 0.5:\n",
    "        return 0.0\n",
    "    else:\n",
    "        return 1.0\n",
    "\n",
    "\n",
    "Xor(N, vis=True).graph(\"initial\", model=xor_classify)"
   ]
  },
  {
   "cell_type": "markdown",
   "metadata": {},
   "source": [
    "### Abrir progreso del xor_classify\n",
    "\n",
    "Link de acceso: http://localhost:8097/"
   ]
  },
  {
   "cell_type": "code",
   "execution_count": null,
   "metadata": {},
   "outputs": [],
   "source": []
  }
 ],
 "metadata": {
  "kernelspec": {
   "display_name": "Python 3",
   "language": "python",
   "name": "python3"
  },
  "language_info": {
   "codemirror_mode": {
    "name": "ipython",
    "version": 3
   },
   "file_extension": ".py",
   "mimetype": "text/x-python",
   "name": "python",
   "nbconvert_exporter": "python",
   "pygments_lexer": "ipython3",
   "version": "3.9.5"
  }
 },
 "nbformat": 4,
 "nbformat_minor": 1
}
